{
 "cells": [
  {
   "cell_type": "markdown",
   "metadata": {},
   "source": [
    "![Institute of Coding](assets/header.png)\n",
    "\n",
    "\n",
    "# Visualization of workforce jobs for professional, scientific and technical activities across regions\n",
    "\n",
    "In the second episode of data visualization for everyone series, we'll use Plot.ly for Python visualization library. Plot.ly provides interactive and nice-looking visualizations for Python, MATLAB, R, and JS. We'll use Python for the rest of the notebook, to be consistent with previous episode.\n",
    "\n",
    "We'll visualize number of jobs across regions in UK, specifically **Professional, scientific, and technical activity** jobs. You can download this data or similar statistics from [here](https://www.nomisweb.co.uk/query/construct/summary.asp?mode=construct&version=0&dataset=130).\n",
    "\n",
    "We cleaned up the header from the data and for the future reference, the header is as follows:"
   ]
  },
  {
   "cell_type": "markdown",
   "metadata": {},
   "source": [
    "```\n",
    "Workforce jobs by industry (SIC 2007) - seasonally adjusted\t\n",
    "ONS Crown Copyright Reserved\t\n",
    "Analysis   :\tstandard\n",
    "Industry   :\tM : Professional, scientific and technical activities\n",
    "Item Name  :\ttotal workforce jobs\n",
    "Reference  :\thttps://www.nomisweb.co.uk/query/construct/\n",
    "            \tsummary.asp?mode=construct&version=0&dataset=130\n",
    "```"
   ]
  },
  {
   "cell_type": "markdown",
   "metadata": {},
   "source": [
    "You can download cleaned-up data in a CSV format, which we'll be using throughout this notebook [here](#).\n",
    "\n",
    "# Loading Data\n",
    "First, we need to read the CSV file, using the pandas library, just like we did on the previous notebook."
   ]
  },
  {
   "cell_type": "code",
   "execution_count": null,
   "metadata": {},
   "outputs": [],
   "source": [
    "import pandas as pd\n",
    "\n",
    "df = pd.read_csv(\"jobs.csv\")"
   ]
  },
  {
   "cell_type": "markdown",
   "metadata": {},
   "source": [
    "Let's preview the data."
   ]
  },
  {
   "cell_type": "code",
   "execution_count": null,
   "metadata": {},
   "outputs": [],
   "source": [
    "df.tail()"
   ]
  },
  {
   "cell_type": "markdown",
   "metadata": {},
   "source": [
    "Import the plotly library and initialize for using with jupyter notebook."
   ]
  },
  {
   "cell_type": "code",
   "execution_count": null,
   "metadata": {},
   "outputs": [],
   "source": [
    "from plotly.offline import iplot, init_notebook_mode\n",
    "import plotly.graph_objects as go\n",
    "\n",
    "init_notebook_mode(connected=True)"
   ]
  },
  {
   "cell_type": "markdown",
   "metadata": {},
   "source": [
    "# Visualizing the Data\n",
    "\n",
    "We'll use scatter plot visualization using `go.Scatter` module. \n",
    "\n",
    "We'll plot `Date` column in `x` axis, and *North East* column in the `y` axis. "
   ]
  },
  {
   "cell_type": "code",
   "execution_count": null,
   "metadata": {},
   "outputs": [],
   "source": [
    "fig = go.Figure(data=go.Scatter(x=df[\"Date\"], y=df[\"North East\"]))\n",
    "iplot(fig)"
   ]
  },
  {
   "cell_type": "markdown",
   "metadata": {},
   "source": [
    "Let's add circle markers on the line to improve the appearance of the visualization. To do that, we can specify `mode` parameter as `lines+markers` where the previous value was `lines` as default."
   ]
  },
  {
   "cell_type": "code",
   "execution_count": null,
   "metadata": {},
   "outputs": [],
   "source": [
    "fig = go.Figure(data=go.Scatter(x=df[\"Date\"], y=df[\"North East\"], mode=\"lines+markers\"))\n",
    "iplot(fig)"
   ]
  },
  {
   "cell_type": "markdown",
   "metadata": {},
   "source": [
    "# Annotate the plot\n",
    "\n",
    "To put text labels alongside the markers, we can change `mode` parameter to `lines+markers+text`. That way, we can show whatever we provide in the `text` parameter. Also, we can specify where the text will be shown with the `textposition` parameter. If we don't provide the `textposition`, the deafult parameter will be `middle center` which will plot on the markers. For the sake of readability, we'll change it to `top center`. Let's put the number of jobs on `text` and change `mode` parameter. "
   ]
  },
  {
   "cell_type": "code",
   "execution_count": null,
   "metadata": {},
   "outputs": [],
   "source": [
    "fig = go.Figure(\n",
    "    data=go.Scatter(\n",
    "        x=df[\"Date\"],\n",
    "        y=df[\"North East\"],\n",
    "        text=df[\"North East\"],\n",
    "        mode=\"lines+markers+text\",\n",
    "        textposition=\"top center\",\n",
    "    )\n",
    ")\n",
    "iplot(fig)"
   ]
  },
  {
   "cell_type": "markdown",
   "metadata": {},
   "source": [
    "To annotate some values over the scatter plot, we can update the figure's layout by `update_layout` method where we can provide `annotation` property as a list of `Annotation` objects. \n",
    "For instance, we can annotate the minimum and maximum number of jobs in the North East by creating two annotations as follows."
   ]
  },
  {
   "cell_type": "code",
   "execution_count": null,
   "metadata": {},
   "outputs": [],
   "source": [
    "min_annotation = go.layout.Annotation(\n",
    "    x=df[\"North East\"].idxmin(),  # the index of the minimum value\n",
    "    y=df[\"North East\"].min(),  # minimum value of `North East` column\n",
    "    text=\"Minimum\",  # annotation text\n",
    "    ay=-70,  # margin for annotation in y-axis\n",
    "    ax=0,  # margin for annotation in x-axis\n",
    "    showarrow=True,  # whether or not showing and arrow head\n",
    "    arrowhead=7,  # change of arrow head, ranging from 0-8\n",
    ")\n",
    "\n",
    "max_annotation = go.layout.Annotation(\n",
    "    x=df[\"North East\"].idxmax(),  # the index of the maximum value\n",
    "    y=df[\"North East\"].max(),  # maximum value of `North East` column\n",
    "    text=\"Maximum\",  # annotation text\n",
    "    ay=-40,  # margin for annotation in y-axis\n",
    "    ax=0,  # margin for annotation in x-axis\n",
    "    showarrow=True,  # whether or not showing and arrow head\n",
    "    arrowhead=1,  # change of arrow head, ranging from 0-8\n",
    ")\n",
    "\n",
    "fig.update_layout(annotations=[min_annotation , max_annotation])\n",
    "iplot(fig)"
   ]
  },
  {
   "cell_type": "code",
   "execution_count": null,
   "metadata": {},
   "outputs": [],
   "source": [
    "min_annotation = go.layout.Annotation(\n",
    "    x=df[\"North East\"].idxmin(),  # returns the index with of the minimum value\n",
    "    y=df[\"North East\"].min(),  # returns the minimum value\n",
    "    text=\"Minimum Value\",\n",
    "    showarrow=True,\n",
    "    arrowhead=3,  # arrowhead type, ranging 0-8\n",
    "    ay=-100,  # margin in y axis for the annotation\n",
    ")\n",
    "\n",
    "max_annotation = go.layout.Annotation(\n",
    "    x=df[\"North East\"].idxmax(),  # returns the index with of the maximum value\n",
    "    y=df[\"North East\"].max(),  # returns the maximum value\n",
    "    text=\"Maximum Value\",\n",
    "    showarrow=True,\n",
    "    arrowhead=8,  # arrowhead type, ranging 0-8\n",
    "    ay=-60,  # margin in y axis for the annotation\n",
    ")\n",
    "fig = go.Figure(\n",
    "    data=go.Scatter(\n",
    "        x=df[\"Date\"],\n",
    "        y=df[\"North East\"],\n",
    "        text=df[\"North East\"],\n",
    "        mode=\"lines+markers+text\",\n",
    "        textposition=\"top center\",\n",
    "    ),\n",
    "    layout=go.Layout(annotations=[min_annotation, max_annotation]),\n",
    ")\n",
    "\n",
    "iplot(fig)"
   ]
  },
  {
   "cell_type": "markdown",
   "metadata": {},
   "source": [
    "Let's add a title and axis labels to our plot. We can either update the layout of the figure, just like we did above, or we can specify `layout` property when we define the `Figure` object, like below:"
   ]
  },
  {
   "cell_type": "code",
   "execution_count": null,
   "metadata": {},
   "outputs": [],
   "source": [
    "fig = go.Figure(\n",
    "    data=go.Scatter(\n",
    "        x=df[\"Date\"], y=df[\"North East\"], text=df[\"North East\"], mode=\"lines+markers\"\n",
    "    ),\n",
    "    layout=go.Layout(\n",
    "        title=\"Number of Professional, scientific and technical activities total workforce jobs\",\n",
    "        xaxis_title=\"Year\",\n",
    "        yaxis_title=\"Number of total workforce jobs\",\n",
    "    ),\n",
    ")\n",
    "iplot(fig)"
   ]
  },
  {
   "cell_type": "code",
   "execution_count": null,
   "metadata": {},
   "outputs": [],
   "source": [
    "# note that we don't provide anything to the data property. We'll add them later.\n",
    "fig = go.Figure(\n",
    "    layout=go.Layout(\n",
    "        title=\"Number of Professional, scientific and technical activities total workforce jobs\",\n",
    "        xaxis_title=\"Year\",\n",
    "        yaxis_title=\"Number of total workforce jobs\",\n",
    "        width=1000,\n",
    "        height=600\n",
    "    )\n",
    ")\n",
    "\n",
    "for col in df.columns[1:]:  # here col represents the column name\n",
    "    fig.add_trace(go.Scatter(x=df[\"Date\"], y=df[col], mode=\"lines+markers\", name=col))\n",
    "\n",
    "\n",
    "iplot(fig)"
   ]
  }
 ],
 "metadata": {
  "kernelspec": {
   "display_name": "Python 3",
   "language": "python",
   "name": "python3"
  },
  "language_info": {
   "codemirror_mode": {
    "name": "ipython",
    "version": 3
   },
   "file_extension": ".py",
   "mimetype": "text/x-python",
   "name": "python",
   "nbconvert_exporter": "python",
   "pygments_lexer": "ipython3",
   "version": "3.7.7"
  }
 },
 "nbformat": 4,
 "nbformat_minor": 4
}
