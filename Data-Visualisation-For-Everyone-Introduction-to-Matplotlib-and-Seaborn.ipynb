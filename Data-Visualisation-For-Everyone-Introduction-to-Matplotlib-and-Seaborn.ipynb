{
 "cells": [
  {
   "cell_type": "markdown",
   "metadata": {
    "colab_type": "text",
    "id": "OvYdCzhRKWtQ"
   },
   "source": [
    "![Institute of Coding](assets/header.png)\n",
    "\n",
    "\n",
    "# Introduction\n",
    "\n",
    "Welcome to the first example of **Data Science for Everyone**. The following example will be about introduction to data visualization with **Python** and plotting line charts. \n",
    "\n",
    "In the introductory examples, we'll use Google's CoLab which provides all the libraries and the environment we'll need. You can always modify the given code snippets by clicking the play button on the left side of each code cell after modifying them.  \n",
    "\n",
    "\n"
   ]
  },
  {
   "cell_type": "markdown",
   "metadata": {
    "colab_type": "text",
    "id": "R5v4IZqLFUTa"
   },
   "source": [
    "# Reading data\n",
    "\n",
    "First, import pandas library, data structure and processing library for Python. By using **`as`** keyword, we can use pandas with **`pd`** alias. "
   ]
  },
  {
   "cell_type": "code",
   "execution_count": null,
   "metadata": {
    "colab": {},
    "colab_type": "code",
    "id": "F98yF0ZjKQVh"
   },
   "outputs": [],
   "source": [
    "import pandas as pd"
   ]
  },
  {
   "cell_type": "markdown",
   "metadata": {
    "colab_type": "text",
    "id": "mN4xXAgILkJG"
   },
   "source": [
    "We'll use a subset of World bank's [UK data](https://data.worldbank.org/country/united-kingdom) which includes:\n",
    "\n",
    "- Urban population,\n",
    "- Rural population\t\n",
    "- GDP per capita (constant LCU)\t\n",
    "- GDP (constant LCU)\t\n",
    "- CO2 emissions (metric tons per capita)\t\n",
    "- Electric power consumption (kWh per capita)\n",
    "\n",
    "\n",
    "Download the data formatted as [CSV](https://en.wikipedia.org/wiki/Comma-separated_values) using pandas' **`read_csv`** function and assign it to variable **`data`**. \n",
    "\n",
    "**`data`** variable is a **`DataFrame`** which is a tabular data format of pandas. We can quickly overview the first 5 rows of data frames using **`head`** function."
   ]
  },
  {
   "cell_type": "code",
   "execution_count": null,
   "metadata": {
    "colab": {
     "base_uri": "https://localhost:8080/",
     "height": 204
    },
    "colab_type": "code",
    "id": "DVNF3jiXEtjT",
    "outputId": "c453330b-001a-440b-a707-3fafeb5c7bc6"
   },
   "outputs": [],
   "source": [
    "# Read the data over a network. \n",
    "data = pd.read_csv('https://gist.githubusercontent.com/furkantektas/b0de8567442daf6f26624d801e6e7b20/raw/bfa1f1cdd2f4d53481466a13c574142e79bad86d/uk-world-bank-data.csv')\n",
    "\n",
    "# Display the first 5 rows of the data\n",
    "data.head()"
   ]
  },
  {
   "cell_type": "markdown",
   "metadata": {
    "colab_type": "text",
    "id": "onrJVMrsDMyH"
   },
   "source": [
    "To have a quick analysis over the columns, we can use pandas' **`describe()`** function which gives the basic statistics including min, max, average, standard deviation and quartiles for each column."
   ]
  },
  {
   "cell_type": "code",
   "execution_count": null,
   "metadata": {
    "colab": {
     "base_uri": "https://localhost:8080/",
     "height": 314
    },
    "colab_type": "code",
    "id": "M2Dl5rW6DWSH",
    "outputId": "5d819f32-f8d7-4301-8b53-a14d2a64372f"
   },
   "outputs": [],
   "source": [
    "data.describe()"
   ]
  },
  {
   "cell_type": "markdown",
   "metadata": {
    "colab_type": "text",
    "id": "Hzzm6lcAYL_L"
   },
   "source": [
    "### Access rows and columns of the data\n",
    "\n",
    "We can access data frames' columns like **`data['Urban population']`**.  It will gives us the entire column of the data. \n",
    "\n",
    "To access data row by row, we can use **`data.iloc[0]`**, where 0 is the row number. Notice that row indexes starts from 0."
   ]
  },
  {
   "cell_type": "code",
   "execution_count": null,
   "metadata": {
    "colab": {
     "base_uri": "https://localhost:8080/",
     "height": 153
    },
    "colab_type": "code",
    "id": "NfbzGbsaX-XF",
    "outputId": "af31ec91-e413-4dd1-a932-4c3f6e8f9c61"
   },
   "outputs": [],
   "source": [
    "# Print the first row\n",
    "data.iloc[0]"
   ]
  },
  {
   "cell_type": "markdown",
   "metadata": {
    "colab_type": "text",
    "id": "vgTClC44OjxD"
   },
   "source": [
    "# Visualizing\n",
    "\n",
    "Now that we have data, we need to visualize it to have deeper understanding. So, let's begin visualization!\n",
    "\n",
    "We'll use **Matplotlib** library for data visualization. Like **`pd`**, we create **`plt`** alias for matplotlib library. Then, to have nice looking figures, we import **`seaborn`** library (as **`sns`**) and set our chart styles using **`sns.set()`**. \n",
    "\n",
    "Since everything's imported for the plotting, we can begin the real work :) Using matplotlib's **plot(x,y)** function, we plot urban population over years. To do that, we select Year column as **`data['Years']`** and Urban Population as **`data['Urban population']`**. We can show the plot using **`show()`** function."
   ]
  },
  {
   "cell_type": "code",
   "execution_count": null,
   "metadata": {
    "colab": {
     "base_uri": "https://localhost:8080/",
     "height": 279
    },
    "colab_type": "code",
    "id": "wtVsGj6EHmCF",
    "outputId": "102d1402-3eba-451b-e1f3-81033134b7d3"
   },
   "outputs": [],
   "source": [
    "# import matplotlib library to use as plt\n",
    "import matplotlib.pyplot as plt\n",
    "\n",
    "# Imprt and set seaborn styles for nice chart styles\n",
    "import seaborn as sns\n",
    "sns.set()\n",
    "\n",
    "# Plot the data: plt.plot(x-axis, y-axis)\n",
    "plt.plot(data['Year'], data['Urban population'])\n",
    "\n",
    "# Show the previously plotted data\n",
    "plt.show()"
   ]
  },
  {
   "cell_type": "markdown",
   "metadata": {
    "colab_type": "text",
    "id": "mWy-J5brRKwj"
   },
   "source": [
    "Visual data is quicker to understand and easy to remember, thanks to [Picture Superiority Effect](https://en.wikipedia.org/wiki/Picture_superiority_effect). By observing the chart above for a few seconds,  we can easily say urban population of UK has been a increasing with a constant rate after 2000. We wouldn't have this insight just by looking the numbers. \n",
    "\n",
    "But, a chart without axis labels and title isn't useful. Let's add this chart a title and labels for both axis so that our plot become much more meaningful, even for  complete outsiders.\n",
    "\n",
    "Let's plot all other metrics in the same way."
   ]
  },
  {
   "cell_type": "code",
   "execution_count": null,
   "metadata": {
    "colab": {
     "base_uri": "https://localhost:8080/",
     "height": 301
    },
    "colab_type": "code",
    "id": "qpIueU3xHmaR",
    "outputId": "b4844caa-36a9-47dc-cb83-0dff36e3dad4"
   },
   "outputs": [],
   "source": [
    "plt.plot(data['Year'],data['Urban population'])\n",
    "\n",
    "# setting x & y axises labels\n",
    "plt.xlabel('Year')\n",
    "plt.ylabel('Urban population')\n",
    "\n",
    "# setting plot title\n",
    "plt.title('UK Urban Population')\n",
    "\n",
    "# showing final plot\n",
    "plt.show()"
   ]
  },
  {
   "cell_type": "markdown",
   "metadata": {
    "colab_type": "text",
    "id": "QeQ99qJxiIKN"
   },
   "source": [
    "### Changing line colour\n",
    "\n",
    "We can change the line color by parameter **`c`**. You can use different colors like\n",
    "\n",
    "- b: blue\n",
    "- g: green\n",
    "- r: red\n",
    "- c: cyan\n",
    "- m: magenta\n",
    "- y: yellow\n",
    "- k: black\n",
    "- w: white"
   ]
  },
  {
   "cell_type": "code",
   "execution_count": null,
   "metadata": {
    "colab": {
     "base_uri": "https://localhost:8080/",
     "height": 301
    },
    "colab_type": "code",
    "id": "fJii1JkzMBwr",
    "outputId": "b98f59c0-6f67-47aa-bcaf-b38553a64056"
   },
   "outputs": [],
   "source": [
    "# Plot the GDP per capita with red color using c='r'\n",
    "plt.plot(data['Year'],data['GDP per capita (constant LCU)'],c='r')\n",
    "\n",
    "# setting axis labels and plot title\n",
    "plt.xlabel('Year')\n",
    "plt.ylabel('GDP per capita')\n",
    "plt.title('GDP per capita for the UK')\n",
    "\n",
    "# showing plot\n",
    "plt.show()"
   ]
  },
  {
   "cell_type": "markdown",
   "metadata": {
    "colab_type": "text",
    "id": "TcA8daC0jD0b"
   },
   "source": [
    "## Plotting multiple data into one chart\n",
    "\n",
    "How about plotting two relative data into one plot? We can do so by calling the plot function, twice 😊\n",
    "\n",
    "As you can see below, matplotlib automatically chooses different colors for each plot function.\n"
   ]
  },
  {
   "cell_type": "code",
   "execution_count": null,
   "metadata": {
    "colab": {
     "base_uri": "https://localhost:8080/",
     "height": 301
    },
    "colab_type": "code",
    "id": "1mhXI426Xla3",
    "outputId": "25ab3c22-f465-45b3-826a-64bcef1c7585"
   },
   "outputs": [],
   "source": [
    "# First plot Urban population\n",
    "plt.plot(data['Year'],data['Urban population'])\n",
    "# Then plot Rural population on the same figure\n",
    "plt.plot(data['Year'],data['Rural population'])\n",
    "\n",
    "# Set x axis label and title\n",
    "plt.xlabel('Year')\n",
    "plt.title('Urban & Rural population comparison of the UK')\n",
    "\n",
    "# Show the final results\n",
    "plt.show()"
   ]
  },
  {
   "cell_type": "markdown",
   "metadata": {
    "colab_type": "text",
    "id": "rLYI4Uj6kL5K"
   },
   "source": [
    "Without prioir knowledge, we can't say which line represents urban population or rural population. So we need to add **legend** to our chart. To do so, we can call **`plt.legend()`** and it places a nice legend inside our chart."
   ]
  },
  {
   "cell_type": "code",
   "execution_count": null,
   "metadata": {
    "colab": {
     "base_uri": "https://localhost:8080/",
     "height": 301
    },
    "colab_type": "code",
    "id": "u1scW0tqXxpt",
    "outputId": "83bfc80c-d356-4e19-ad99-69e0a2824fb7"
   },
   "outputs": [],
   "source": [
    "# First plot Urban population\n",
    "plt.plot(data['Year'],data['Urban population'])\n",
    "# Then plot Rural population on the same figure\n",
    "plt.plot(data['Year'],data['Rural population'])\n",
    "\n",
    "# Set x axis label and title\n",
    "plt.xlabel('Year')\n",
    "plt.title('Urban & Rural population comparison of the UK')\n",
    "\n",
    "# Adding legend to current plot\n",
    "plt.legend()\n",
    "\n",
    "# Show the final results\n",
    "plt.show()"
   ]
  },
  {
   "cell_type": "markdown",
   "metadata": {
    "colab_type": "text",
    "id": "IUcFs6kd6TVJ"
   },
   "source": [
    "## Filtering data\n",
    "\n",
    "To be able to focus on the data after 2002, we may need to filter our data. To be able to do so, we need to select only the rows with **`Year`** column is greater or equal to 2000. We can  create a mask to define which rows we are interested in and which we are not.  \n",
    "\n",
    "To select rows which Year column is greater or equal to 2002, we can use **`data['Year'] >= 2002`**. This will give us a mask indicating which rows before 2002 and which rows after 2002. Let's create a variable **`mask`** and mask the whole data. Then, we can plot the same chart using the code snippet above.\n",
    "\n",
    "*Note that legend is positioned according to chart's content.*"
   ]
  },
  {
   "cell_type": "code",
   "execution_count": null,
   "metadata": {
    "colab": {
     "base_uri": "https://localhost:8080/",
     "height": 301
    },
    "colab_type": "code",
    "id": "9SWs5X_V6FAY",
    "outputId": "d9fd92f4-d6d9-440a-c7a7-a78deca6aeef"
   },
   "outputs": [],
   "source": [
    "# Creating a mask for year >= 2002\n",
    "mask = data['Year'] >= 2002\n",
    "\n",
    "# Applying mask to the data and assign filtered data to a new variable\n",
    "masked_data = data[mask]\n",
    "\n",
    "# Plot the previous figure with the masked data\n",
    "plt.plot(masked_data['Year'],masked_data['Urban population'], label=\"Urban Population\")\n",
    "plt.plot(masked_data['Year'],masked_data['Rural population'], label=\"Rural Population\")\n",
    "plt.legend()\n",
    "plt.xlabel('Year')\n",
    "plt.title('Urban vs Rural population of the UK after 2002')\n",
    "plt.show()"
   ]
  }
 ],
 "metadata": {
  "colab": {
   "collapsed_sections": [],
   "name": "DataVisualizitionForEveryone-Example1-Introduction-to-Plotting.ipynb",
   "provenance": []
  },
  "kernel_info": {
   "name": "python3"
  },
  "kernelspec": {
   "display_name": "Python 3",
   "language": "python",
   "name": "python3"
  },
  "language_info": {
   "codemirror_mode": {
    "name": "ipython",
    "version": 3
   },
   "file_extension": ".py",
   "mimetype": "text/x-python",
   "name": "python",
   "nbconvert_exporter": "python",
   "pygments_lexer": "ipython3",
   "version": "3.7.7"
  },
  "nteract": {
   "version": "0.15.0"
  }
 },
 "nbformat": 4,
 "nbformat_minor": 4
}
